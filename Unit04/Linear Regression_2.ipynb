{
 "cells": [
  {
   "cell_type": "markdown",
   "metadata": {},
   "source": [
    "# Linear Regression\n"
   ]
  },
  {
   "cell_type": "code",
   "execution_count": 1,
   "metadata": {},
   "outputs": [],
   "source": [
    "%matplotlib inline\n",
    "import numpy as np\n",
    "import matplotlib.pyplot as plt"
   ]
  },
  {
   "cell_type": "markdown",
   "metadata": {},
   "source": [
    "## 2.  線性迴歸訓練資料、測試資料\n",
    "\n",
    "80%  training data, 20%  testing data ==> 先利用此來驗證各種模型(演算法)的好壞及調好到最佳參數\n",
    "之後可以利用由這個80%的訓練資料所得的模型後,拿100%資料re-train模型以得到最佳模型 (此model會更佳fit data)\n"
   ]
  },
  {
   "cell_type": "code",
   "execution_count": 2,
   "metadata": {},
   "outputs": [],
   "source": [
    "from sklearn.model_selection import train_test_split\n",
    "from sklearn.linear_model import LinearRegression"
   ]
  },
  {
   "cell_type": "code",
   "execution_count": 4,
   "metadata": {},
   "outputs": [
    {
     "name": "stdout",
     "output_type": "stream",
     "text": [
      "[4.08163265 1.73469388 1.83673469 0.         2.75510204 3.36734694\n",
      " 3.67346939 4.28571429 1.02040816 0.30612245 4.18367347 1.32653061\n",
      " 4.69387755 0.20408163 3.87755102 3.97959184 0.51020408 4.3877551\n",
      " 3.7755102  3.06122449 0.6122449  2.95918367 1.63265306 1.93877551\n",
      " 5.         4.48979592 2.14285714 3.26530612 3.46938776 0.71428571\n",
      " 2.24489796 1.12244898 2.04081633 0.91836735 4.89795918 2.85714286\n",
      " 3.16326531 1.53061224 2.65306122 3.57142857]\n"
     ]
    }
   ],
   "source": [
    "#x,y 資料\n",
    "x = np.linspace(0, 5, 50)\n",
    "#print(x)\n",
    "y = 1.2*x + 0.8 + 0.6*np.random.randn(50)\n",
    "#print(y)\n",
    "#切割train及test set=80:20\n",
    "x_train, x_test, y_train, y_test = train_test_split(x, y, test_size=0.2, random_state=20)  \n",
    "#random_state若無設定，則為隨機打亂。\n",
    "#random_state若有設定，則打亂順序是固定的方式。通常設定為此，是為了固定每次的data set或是具有可複現性\n",
    "print(x_train)"
   ]
  },
  {
   "cell_type": "code",
   "execution_count": 12,
   "metadata": {},
   "outputs": [
    {
     "data": {
      "text/plain": [
       "array([6.42869894, 2.26453061, 3.44246414, 0.17038971, 4.48063341,\n",
       "       4.58567884, 5.19466217, 6.09855797, 1.7887802 , 1.07199511,\n",
       "       5.03705468, 2.35511681, 5.81655564, 0.53973857, 5.54179541,\n",
       "       4.57463221, 0.51385912, 5.81936521, 5.33918686, 4.87318806,\n",
       "       1.31350487, 3.80688915, 3.41083479, 2.40769157, 6.54877233,\n",
       "       5.67982452, 3.80555191, 5.31832004, 4.85954874, 1.49387684,\n",
       "       3.6913424 , 2.25279277, 2.99774844, 2.55909395, 6.99182561,\n",
       "       4.16139351, 4.59446062, 2.65618628, 4.42392978, 4.09236344])"
      ]
     },
     "execution_count": 12,
     "metadata": {},
     "output_type": "execute_result"
    }
   ],
   "source": [
    "y_train"
   ]
  },
  {
   "cell_type": "code",
   "execution_count": 9,
   "metadata": {
    "scrolled": false
   },
   "outputs": [
    {
     "data": {
      "text/plain": [
       "array([0.17038971, 1.2574952 , 0.53973857, 1.07199511, 1.40669152,\n",
       "       0.51385912, 1.31350487, 1.49387684, 1.27444986, 2.55909395,\n",
       "       1.7887802 , 2.25279277, 1.52201166, 2.35511681, 1.9711018 ,\n",
       "       2.65618628, 3.41083479, 2.26453061, 3.44246414, 2.40769157,\n",
       "       2.99774844, 3.80555191, 3.6913424 , 3.05432123, 4.19714523,\n",
       "       3.66451632, 4.42392978, 4.48063341, 4.16139351, 3.80688915,\n",
       "       4.87318806, 4.59446062, 5.31832004, 4.58567884, 4.85954874,\n",
       "       4.09236344, 5.19466217, 5.33918686, 5.54179541, 4.57463221,\n",
       "       6.42869894, 5.03705468, 6.09855797, 5.81936521, 5.67982452,\n",
       "       6.14918623, 5.81655564, 6.25908321, 6.99182561, 6.54877233])"
      ]
     },
     "execution_count": 9,
     "metadata": {},
     "output_type": "execute_result"
    }
   ],
   "source": [
    "y #對應x的資料及順序"
   ]
  },
  {
   "cell_type": "code",
   "execution_count": 13,
   "metadata": {},
   "outputs": [
    {
     "data": {
      "text/plain": [
       "<matplotlib.collections.PathCollection at 0x2bcf3c40>"
      ]
     },
     "execution_count": 13,
     "metadata": {},
     "output_type": "execute_result"
    },
    {
     "data": {
      "image/png": "[encoded data removed]",
      "text/plain": [
       "<Figure size 432x288 with 1 Axes>"
      ]
     },
     "metadata": {
      "needs_background": "light"
     },
     "output_type": "display_data"
    }
   ],
   "source": [
    "#training資料分布狀況\n",
    "plt.scatter(x_train, y_train)"
   ]
  },
  {
   "cell_type": "markdown",
   "metadata": {},
   "source": [
    "#### 用訓練資料來 fit 函數\n",
    "\n",
    "記得現在我們只用 80% 的資料去訓練。"
   ]
  },
  {
   "cell_type": "code",
   "execution_count": 14,
   "metadata": {
    "scrolled": true
   },
   "outputs": [
    {
     "name": "stdout",
     "output_type": "stream",
     "text": [
      "Coefficients:  [1.20286682]\n",
      "interception:  0.6890252466543356\n"
     ]
    }
   ],
   "source": [
    "#先將線性回歸程式assign至regr\n",
    "regr = LinearRegression()\n",
    "#記得資料要由1D改為2D\n",
    "X_train = x_train.reshape(-1,1)\n",
    "#將轉換後的X_train資料及實際的y_train結果，丟給機器學習\n",
    "regr.fit(X_train,y_train)\n",
    "print('Coefficients: ', regr.coef_) #斜率\n",
    "print('interception: ', regr.intercept_) #截距"
   ]
  },
  {
   "cell_type": "code",
   "execution_count": 15,
   "metadata": {},
   "outputs": [],
   "source": [
    "#將X_train資料丟進機器預測的式子內\n",
    "Y_train = regr.predict(X_train)"
   ]
  },
  {
   "cell_type": "code",
   "execution_count": 16,
   "metadata": {},
   "outputs": [
    {
     "name": "stdout",
     "output_type": "stream",
     "text": [
      "0.21695083790985353\n"
     ]
    }
   ],
   "source": [
    "#MSE(mean square error)是衡量predict結果好不好的指標=> (總和(predict Y - real Y)^2)/總筆數\n",
    "mse = np.sum((Y_train-y_train)**2) / len(y_train)\n",
    "print(mse)"
   ]
  },
  {
   "cell_type": "code",
   "execution_count": 17,
   "metadata": {},
   "outputs": [
    {
     "data": {
      "text/plain": [
       "[<matplotlib.lines.Line2D at 0x2c465c70>]"
      ]
     },
     "execution_count": 17,
     "metadata": {},
     "output_type": "execute_result"
    },
    {
     "data": {
      "image/png": "[encoded data removed]",
      "text/plain": [
       "<Figure size 432x288 with 1 Axes>"
      ]
     },
     "metadata": {
      "needs_background": "light"
     },
     "output_type": "display_data"
    }
   ],
   "source": [
    "plt.scatter(x_train, y_train) #原始training data set的散布圖\n",
    "plt.plot(x_train, Y_train, 'r') #model predict出來的曲線 (x_train, f(x_train)=Y_train)"
   ]
  },
  {
   "cell_type": "markdown",
   "metadata": {},
   "source": [
    "#### test with test data"
   ]
  },
  {
   "cell_type": "code",
   "execution_count": 19,
   "metadata": {},
   "outputs": [
    {
     "name": "stdout",
     "output_type": "stream",
     "text": [
      "[2.16192339 2.40740642 1.17999129 1.67095734 6.21239329 0.81176676\n",
      " 3.75756305 3.63482154 6.45787631 3.51208002]\n"
     ]
    }
   ],
   "source": [
    "#一樣，將x_test reshape由1D轉為2D\n",
    "X_test = x_test.reshape(-1,1)\n",
    "#將X_test丟進去predict的結果裡，得到的會是Predict Y_test\n",
    "Y_test = regr.predict(X_test)\n",
    "\n",
    "#80/20，共50筆，理應有10筆test data set\n",
    "print(Y_test)"
   ]
  },
  {
   "cell_type": "markdown",
   "metadata": {},
   "source": [
    "$$\\widehat{y}=xw+b=w_{1}x_{1}+b$$"
   ]
  },
  {
   "cell_type": "code",
   "execution_count": 20,
   "metadata": {},
   "outputs": [
    {
     "data": {
      "text/plain": [
       "array([[2.16192339],\n",
       "       [2.40740642],\n",
       "       [1.17999129],\n",
       "       [1.67095734],\n",
       "       [6.21239329],\n",
       "       [0.81176676],\n",
       "       [3.75756305],\n",
       "       [3.63482154],\n",
       "       [6.45787631],\n",
       "       [3.51208002]])"
      ]
     },
     "execution_count": 20,
     "metadata": {},
     "output_type": "execute_result"
    }
   ],
   "source": [
    "#也可以將上面所取得的Coef和intercept直接寫成方程式帶入X_test。所得到的結果要是一樣的。\n",
    "#Y=WX+b\n",
    "W=regr.coef_\n",
    "b=regr.intercept_\n",
    "W*X_test+b\n"
   ]
  },
  {
   "cell_type": "code",
   "execution_count": 21,
   "metadata": {},
   "outputs": [
    {
     "name": "stdout",
     "output_type": "stream",
     "text": [
      "0.15850563386728111\n"
     ]
    }
   ],
   "source": [
    "#通常test data set的MSE會差於training data set =>因為資料是沒看過的。\n",
    "#不過滿lucky的，居然MSE_test < MSE_train\n",
    "mse = np.sum((Y_test-y_test)**2) / len(y_test)\n",
    "print(mse)"
   ]
  },
  {
   "cell_type": "code",
   "execution_count": 22,
   "metadata": {
    "scrolled": false
   },
   "outputs": [
    {
     "data": {
      "text/plain": [
       "<matplotlib.legend.Legend at 0x2c4db640>"
      ]
     },
     "execution_count": 22,
     "metadata": {},
     "output_type": "execute_result"
    },
    {
     "data": {
      "image/png": "[encoded data removed]",
      "text/plain": [
       "<Figure size 432x288 with 1 Axes>"
      ]
     },
     "metadata": {
      "needs_background": "light"
     },
     "output_type": "display_data"
    }
   ],
   "source": [
    "#作圖\n",
    "title='f(x)=1.2x+0.8'+',mse:'+str(round(mse,2)) #取至小數點第二位\n",
    "plt.title(title) #上方座標\n",
    "plt.xlabel('x') #橫坐標標題\n",
    "plt.ylabel('y') #縱坐標標題\n",
    "#plt.grid(True)\n",
    "plt.scatter(x_test, y_test,alpha=0.8,label='Ground Truth') #實際結果y_test\n",
    "plt.scatter(x_test, Y_test, c='r', alpha=0.8,label='Predict') #Predict結果Y_test\n",
    "plt.legend()"
   ]
  },
  {
   "cell_type": "code",
   "execution_count": null,
   "metadata": {},
   "outputs": [],
   "source": []
  },
  {
   "cell_type": "code",
   "execution_count": null,
   "metadata": {},
   "outputs": [],
   "source": []
  }
 ],
 "metadata": {
  "anaconda-cloud": {},
  "kernelspec": {
   "display_name": "Python 3",
   "language": "python",
   "name": "python3"
  },
  "language_info": {
   "codemirror_mode": {
    "name": "ipython",
    "version": 3
   },
   "file_extension": ".py",
   "mimetype": "text/x-python",
   "name": "python",
   "nbconvert_exporter": "python",
   "pygments_lexer": "ipython3",
   "version": "3.8.8"
  }
 },
 "nbformat": 4,
 "nbformat_minor": 1
}
